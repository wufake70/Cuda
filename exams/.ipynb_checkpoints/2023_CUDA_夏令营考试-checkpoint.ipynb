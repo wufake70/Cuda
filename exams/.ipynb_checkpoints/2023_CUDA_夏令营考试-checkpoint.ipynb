{
 "cells": [
  {
   "cell_type": "markdown",
   "id": "ignored-interaction",
   "metadata": {},
   "source": [
    "## 2023 CUDA on ARM夏令营考试\n",
    "\n",
    "----\n",
    "本次考试一共包含以下三个题目, 全部完成将通过考试:\n",
    "\n",
    "1.利用GPU完成任务: 将输入矩阵(3000\\*3000)的每一个小于100的值赋值为0, 并将修改后的矩阵放到输出矩阵中.  \n",
    "如: **if(in[i][j]<100) out[i][j] = 0; else out[i][j] = in[i][j];**\n",
    "\n",
    "2.利用GPU找出一列包含1000000个元素的数组的**最大的5个值**.\n",
    "\n",
    "3.利用GPU完成原地矩阵(3000\\*3000)转置操作:  \n",
    "要求:输入矩阵和输出矩阵在**同一存储空间内**, 不得另外申请空间."
   ]
  },
  {
   "cell_type": "code",
   "execution_count": 4,
   "id": "direct-lunch",
   "metadata": {},
   "outputs": [],
   "source": [
    "# 陈亮"
   ]
  },
  {
   "cell_type": "code",
   "execution_count": 5,
   "id": "metropolitan-technology",
   "metadata": {},
   "outputs": [],
   "source": [
    "!/usr/local/cuda/bin/nvcc 1.cu -o 1"
   ]
  },
  {
   "cell_type": "code",
   "execution_count": 6,
   "id": "unique-wireless",
   "metadata": {},
   "outputs": [
    {
     "name": "stdout",
     "output_type": "stream",
     "text": [
      "\n",
      "***********GPU RUN**************\n",
      "Time_GPU = 8.56328 ms.\n",
      "\n",
      "***********Check result**************\n",
      "Pass!!!\n"
     ]
    }
   ],
   "source": [
    "!./1"
   ]
  },
  {
   "cell_type": "code",
   "execution_count": null,
   "id": "federal-onion",
   "metadata": {},
   "outputs": [],
   "source": [
    "!/usr/local/cuda/bin/nvcc 2.cu -o 2"
   ]
  },
  {
   "cell_type": "code",
   "execution_count": null,
   "id": "governmental-bankruptcy",
   "metadata": {},
   "outputs": [],
   "source": [
    "!./2"
   ]
  },
  {
   "cell_type": "code",
   "execution_count": null,
   "id": "bright-advisory",
   "metadata": {},
   "outputs": [],
   "source": [
    "!/usr/local/cuda/bin/nvcc 3.cu -o 3"
   ]
  },
  {
   "cell_type": "code",
   "execution_count": null,
   "id": "heavy-grant",
   "metadata": {},
   "outputs": [],
   "source": [
    "!./3"
   ]
  }
 ],
 "metadata": {
  "kernelspec": {
   "display_name": "Python 3",
   "language": "python",
   "name": "python3"
  },
  "language_info": {
   "codemirror_mode": {
    "name": "ipython",
    "version": 3
   },
   "file_extension": ".py",
   "mimetype": "text/x-python",
   "name": "python",
   "nbconvert_exporter": "python",
   "pygments_lexer": "ipython3",
   "version": "3.6.9"
  }
 },
 "nbformat": 4,
 "nbformat_minor": 5
}
