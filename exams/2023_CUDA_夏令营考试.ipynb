{
 "cells": [
  {
   "cell_type": "markdown",
   "id": "false-civilization",
   "metadata": {},
   "source": [
    "## 2023 CUDA on ARM夏令营考试\n",
    "\n",
    "----\n",
    "本次考试一共包含以下三个题目, 全部完成将通过考试:\n",
    "\n",
    "1.利用GPU完成任务: 将输入矩阵(3000\\*3000)的每一个小于100的值赋值为0, 并将修改后的矩阵放到输出矩阵中.  \n",
    "如: **if(in[i][j]<100) out[i][j] = 0; else out[i][j] = in[i][j];**\n",
    "\n",
    "2.利用GPU找出一列包含1000000个元素的数组的**最大的5个值**.\n",
    "\n",
    "3.利用GPU完成原地矩阵(3000\\*3000)转置操作:  \n",
    "要求:输入矩阵和输出矩阵在**同一存储空间内**, 不得另外申请空间."
   ]
  },
  {
   "cell_type": "code",
   "execution_count": null,
   "id": "digital-honduras",
   "metadata": {},
   "outputs": [],
   "source": [
    "# 陈亮"
   ]
  },
  {
   "cell_type": "code",
   "execution_count": 26,
   "id": "lightweight-kruger",
   "metadata": {},
   "outputs": [],
   "source": [
    "!/usr/local/cuda/bin/nvcc 1.cu -o 1"
   ]
  },
  {
   "cell_type": "code",
   "execution_count": 34,
   "id": "mobile-notebook",
   "metadata": {},
   "outputs": [
    {
     "name": "stdout",
     "output_type": "stream",
     "text": [
      "\n",
      "***********GPU RUN**************\n",
      "Time_GPU = 8.58286 ms.\n",
      "\n",
      "***********Check result**************\n",
      "Pass!!!\n"
     ]
    }
   ],
   "source": [
    "!./1"
   ]
  },
  {
   "cell_type": "code",
   "execution_count": 28,
   "id": "certified-panel",
   "metadata": {},
   "outputs": [],
   "source": [
    "!/usr/local/cuda/bin/nvcc 2.cu -o 2"
   ]
  },
  {
   "cell_type": "code",
   "execution_count": 35,
   "id": "exposed-sampling",
   "metadata": {},
   "outputs": [
    {
     "name": "stdout",
     "output_type": "stream",
     "text": [
      "Init source data...........\n",
      "Complete init source data.....\n",
      "GPU Run **************\n",
      "GPU Complete!!!\n",
      "CPU RUN***************\n",
      "CPU Complete!!!!!CPU top1: 2147483611; GPU top1: 2147483611;\n",
      "CPU top2: 2147483578; GPU top2: 2147483578;\n",
      "CPU top3: 2147483526; GPU top3: 2147483526;\n",
      "CPU top4: 2147483514; GPU top4: 2147483514;\n",
      "CPU top5: 2147483491; GPU top5: 2147483491;\n",
      "Result: Pass\n",
      "CPU time: 4211.99; GPU time: 172.63\n"
     ]
    }
   ],
   "source": [
    "!./2"
   ]
  },
  {
   "cell_type": "code",
   "execution_count": 40,
   "id": "minimal-bennett",
   "metadata": {},
   "outputs": [],
   "source": [
    "!/usr/local/cuda/bin/nvcc 3.cu -o 3"
   ]
  },
  {
   "cell_type": "code",
   "execution_count": 41,
   "id": "working-camel",
   "metadata": {},
   "outputs": [
    {
     "name": "stdout",
     "output_type": "stream",
     "text": [
      "Time_GPU = 97.8026 ms.\n",
      "Pass!!!\n"
     ]
    }
   ],
   "source": [
    "!./3"
   ]
  },
  {
   "cell_type": "code",
   "execution_count": null,
   "id": "favorite-edgar",
   "metadata": {},
   "outputs": [],
   "source": []
  }
 ],
 "metadata": {
  "kernelspec": {
   "display_name": "Python 3",
   "language": "python",
   "name": "python3"
  },
  "language_info": {
   "codemirror_mode": {
    "name": "ipython",
    "version": 3
   },
   "file_extension": ".py",
   "mimetype": "text/x-python",
   "name": "python",
   "nbconvert_exporter": "python",
   "pygments_lexer": "ipython3",
   "version": "3.10.6 (tags/v3.10.6:9c7b4bd, Aug  1 2022, 21:53:49) [MSC v.1932 64 bit (AMD64)]"
  },
  "vscode": {
   "interpreter": {
    "hash": "3196968d684371006099b3d55edeef8ed90365227a30deaef86e5d4aa8519be0"
   }
  }
 },
 "nbformat": 4,
 "nbformat_minor": 5
}
